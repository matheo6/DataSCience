{
 "cells": [
  {
   "cell_type": "code",
   "execution_count": 4,
   "metadata": {},
   "outputs": [],
   "source": [
    "import pandas as pd\n",
    "import dateutil\n",
    "data=pd.read_csv('phone_data.csv')\n",
    "data['date']=data['date'].apply(dateutil.parser.parse,dayfirst=True)"
   ]
  },
  {
   "cell_type": "code",
   "execution_count": 17,
   "metadata": {},
   "outputs": [
    {
     "data": {
      "text/plain": [
       "10528.0"
      ]
     },
     "execution_count": 17,
     "metadata": {},
     "output_type": "execute_result"
    }
   ],
   "source": [
    "data['duration'].max()"
   ]
  },
  {
   "cell_type": "code",
   "execution_count": 18,
   "metadata": {},
   "outputs": [
    {
     "data": {
      "text/plain": [
       "10528.0"
      ]
     },
     "execution_count": 18,
     "metadata": {},
     "output_type": "execute_result"
    }
   ],
   "source": [
    "data['duration'][data['item']=='call'].max()\n"
   ]
  },
  {
   "cell_type": "code",
   "execution_count": 19,
   "metadata": {},
   "outputs": [
    {
     "data": {
      "text/plain": [
       "34.429"
      ]
     },
     "execution_count": 19,
     "metadata": {},
     "output_type": "execute_result"
    }
   ],
   "source": [
    "data['duration'][data['item']=='data'].max()\n"
   ]
  },
  {
   "cell_type": "code",
   "execution_count": 20,
   "metadata": {},
   "outputs": [
    {
     "data": {
      "text/plain": [
       "92321.0"
      ]
     },
     "execution_count": 20,
     "metadata": {},
     "output_type": "execute_result"
    }
   ],
   "source": [
    "data['duration'][data['item'] == 'call'].sum()"
   ]
  },
  {
   "cell_type": "code",
   "execution_count": 28,
   "metadata": {},
   "outputs": [
    {
     "data": {
      "text/plain": [
       "5456.35"
      ]
     },
     "execution_count": 28,
     "metadata": {},
     "output_type": "execute_result"
    }
   ],
   "source": [
    "data['duration'][(data['item'] == 'sms') | (data['item'] == 'data')].sum()"
   ]
  },
  {
   "cell_type": "code",
   "execution_count": 29,
   "metadata": {},
   "outputs": [
    {
     "data": {
      "text/plain": [
       "2014-11    230\n",
       "2015-01    205\n",
       "2014-12    157\n",
       "2015-02    137\n",
       "2015-03    101\n",
       "Name: month, dtype: int64"
      ]
     },
     "execution_count": 29,
     "metadata": {},
     "output_type": "execute_result"
    }
   ],
   "source": [
    "data['month'].value_counts()"
   ]
  },
  {
   "cell_type": "code",
   "execution_count": 34,
   "metadata": {
    "scrolled": true
   },
   "outputs": [
    {
     "data": {
      "text/plain": [
       "data    150\n",
       "Name: network, dtype: int64"
      ]
     },
     "execution_count": 34,
     "metadata": {},
     "output_type": "execute_result"
    }
   ],
   "source": [
    "data['network'][data['item']=='data'].value_counts()"
   ]
  },
  {
   "cell_type": "code",
   "execution_count": 35,
   "metadata": {},
   "outputs": [
    {
     "data": {
      "text/plain": [
       "Three        128\n",
       "Tesco         71\n",
       "Vodafone      66\n",
       "Meteor        54\n",
       "landline      42\n",
       "voicemail     27\n",
       "Name: network, dtype: int64"
      ]
     },
     "execution_count": 35,
     "metadata": {},
     "output_type": "execute_result"
    }
   ],
   "source": [
    "data['network'][data['item']=='call'].value_counts()"
   ]
  },
  {
   "cell_type": "code",
   "execution_count": 45,
   "metadata": {},
   "outputs": [
    {
     "data": {
      "text/plain": [
       "network\n",
       "Meteor       133.333333\n",
       "Tesco        194.760563\n",
       "Three        284.875000\n",
       "Vodafone     221.530303\n",
       "landline     438.880952\n",
       "voicemail     65.740741\n",
       "Name: duration, dtype: float64"
      ]
     },
     "execution_count": 45,
     "metadata": {},
     "output_type": "execute_result"
    }
   ],
   "source": [
    "data[data['item']=='call'].groupby('network')['duration'].mean()\n"
   ]
  },
  {
   "cell_type": "code",
   "execution_count": 46,
   "metadata": {},
   "outputs": [
    {
     "data": {
      "text/plain": [
       "network\n",
       "data    34.429\n",
       "Name: duration, dtype: float64"
      ]
     },
     "execution_count": 46,
     "metadata": {},
     "output_type": "execute_result"
    }
   ],
   "source": [
    "data[data['item']=='data'].groupby('network')['duration'].mean()\n"
   ]
  },
  {
   "cell_type": "code",
   "execution_count": 47,
   "metadata": {},
   "outputs": [
    {
     "data": {
      "text/plain": [
       "month\n",
       "2014-11    230\n",
       "2014-12    157\n",
       "2015-01    205\n",
       "2015-02    137\n",
       "2015-03    101\n",
       "Name: date, dtype: int64"
      ]
     },
     "execution_count": 47,
     "metadata": {},
     "output_type": "execute_result"
    }
   ],
   "source": [
    "data.groupby('month')['date'].count()"
   ]
  },
  {
   "cell_type": "code",
   "execution_count": 48,
   "metadata": {},
   "outputs": [
    {
     "data": {
      "text/plain": [
       "network\n",
       "Meteor        54\n",
       "Tesco         71\n",
       "Three        128\n",
       "Vodafone      66\n",
       "landline      42\n",
       "voicemail     27\n",
       "Name: duration, dtype: int64"
      ]
     },
     "execution_count": 48,
     "metadata": {},
     "output_type": "execute_result"
    }
   ],
   "source": [
    "data[data['item']=='call'].groupby('network')['duration'].count()\n"
   ]
  },
  {
   "cell_type": "code",
   "execution_count": 49,
   "metadata": {},
   "outputs": [
    {
     "data": {
      "text/plain": [
       "network\n",
       "Meteor       33\n",
       "Tesco        13\n",
       "Three        87\n",
       "Vodafone    149\n",
       "special       3\n",
       "world         7\n",
       "Name: duration, dtype: int64"
      ]
     },
     "execution_count": 49,
     "metadata": {},
     "output_type": "execute_result"
    }
   ],
   "source": [
    "data[data['item']=='sms'].groupby('network')['duration'].count()"
   ]
  },
  {
   "cell_type": "code",
   "execution_count": 50,
   "metadata": {},
   "outputs": [
    {
     "data": {
      "text/plain": [
       "month    item\n",
       "2014-11  call    107\n",
       "         data     29\n",
       "         sms      94\n",
       "2014-12  call     79\n",
       "         data     30\n",
       "         sms      48\n",
       "2015-01  call     88\n",
       "         data     31\n",
       "         sms      86\n",
       "2015-02  call     67\n",
       "         data     31\n",
       "         sms      39\n",
       "2015-03  call     47\n",
       "         data     29\n",
       "         sms      25\n",
       "Name: date, dtype: int64"
      ]
     },
     "execution_count": 50,
     "metadata": {},
     "output_type": "execute_result"
    }
   ],
   "source": [
    "data.groupby(['month', 'item'])['date'].count()"
   ]
  },
  {
   "cell_type": "code",
   "execution_count": 51,
   "metadata": {},
   "outputs": [
    {
     "data": {
      "text/plain": [
       "month    network  \n",
       "2014-11  Meteor       23\n",
       "         Tesco        23\n",
       "         Three        64\n",
       "         Vodafone     79\n",
       "         data         29\n",
       "         landline      5\n",
       "         special       1\n",
       "         voicemail     6\n",
       "2014-12  Meteor       24\n",
       "         Tesco        13\n",
       "         Three        43\n",
       "         Vodafone     28\n",
       "         data         30\n",
       "         landline      7\n",
       "         voicemail     8\n",
       "         world         4\n",
       "2015-01  Meteor       31\n",
       "         Tesco        15\n",
       "         Three        59\n",
       "         Vodafone     55\n",
       "         data         31\n",
       "         landline     11\n",
       "         voicemail     3\n",
       "2015-02  Meteor        5\n",
       "         Tesco        22\n",
       "         Three        33\n",
       "         Vodafone     30\n",
       "         data         31\n",
       "         landline      8\n",
       "         special       2\n",
       "         voicemail     6\n",
       "2015-03  Meteor        4\n",
       "         Tesco        11\n",
       "         Three        16\n",
       "         Vodafone     23\n",
       "         data         29\n",
       "         landline     11\n",
       "         voicemail     4\n",
       "         world         3\n",
       "Name: date, dtype: int64"
      ]
     },
     "execution_count": 51,
     "metadata": {},
     "output_type": "execute_result"
    }
   ],
   "source": [
    "data.groupby(['month', 'network'])['date'].count()"
   ]
  },
  {
   "cell_type": "code",
   "execution_count": 56,
   "metadata": {},
   "outputs": [
    {
     "data": {
      "text/plain": [
       "month    network    item\n",
       "2014-11  Meteor     call    13\n",
       "                    sms     10\n",
       "         Tesco      call    20\n",
       "                    sms      3\n",
       "         Three      call    39\n",
       "                    sms     25\n",
       "         Vodafone   call    24\n",
       "                    sms     55\n",
       "         data       data    29\n",
       "         landline   call     5\n",
       "         special    sms      1\n",
       "         voicemail  call     6\n",
       "2014-12  Meteor     call    12\n",
       "                    sms     12\n",
       "         Tesco      call    12\n",
       "                    sms      1\n",
       "         Three      call    30\n",
       "                    sms     13\n",
       "         Vodafone   call    10\n",
       "                    sms     18\n",
       "         data       data    30\n",
       "         landline   call     7\n",
       "         voicemail  call     8\n",
       "         world      sms      4\n",
       "2015-01  Meteor     call    21\n",
       "                    sms     10\n",
       "         Tesco      call    12\n",
       "                    sms      3\n",
       "         Three      call    26\n",
       "                    sms     33\n",
       "         Vodafone   call    15\n",
       "                    sms     40\n",
       "         data       data    31\n",
       "         landline   call    11\n",
       "         voicemail  call     3\n",
       "2015-02  Meteor     call     4\n",
       "                    sms      1\n",
       "         Tesco      call    20\n",
       "                    sms      2\n",
       "         Three      call    22\n",
       "                    sms     11\n",
       "         Vodafone   call     7\n",
       "                    sms     23\n",
       "         data       data    31\n",
       "         landline   call     8\n",
       "         special    sms      2\n",
       "         voicemail  call     6\n",
       "2015-03  Meteor     call     4\n",
       "         Tesco      call     7\n",
       "                    sms      4\n",
       "         Three      call    11\n",
       "                    sms      5\n",
       "         Vodafone   call    10\n",
       "                    sms     13\n",
       "         data       data    29\n",
       "         landline   call    11\n",
       "         voicemail  call     4\n",
       "         world      sms      3\n",
       "Name: duration, dtype: int64"
      ]
     },
     "execution_count": 56,
     "metadata": {},
     "output_type": "execute_result"
    }
   ],
   "source": [
    "data.groupby(['month', 'network','item'])['duration'].count()"
   ]
  },
  {
   "cell_type": "code",
   "execution_count": null,
   "metadata": {},
   "outputs": [],
   "source": []
  }
 ],
 "metadata": {
  "kernelspec": {
   "display_name": "Python 3",
   "language": "python",
   "name": "python3"
  },
  "language_info": {
   "codemirror_mode": {
    "name": "ipython",
    "version": 3
   },
   "file_extension": ".py",
   "mimetype": "text/x-python",
   "name": "python",
   "nbconvert_exporter": "python",
   "pygments_lexer": "ipython3",
   "version": "3.7.1"
  }
 },
 "nbformat": 4,
 "nbformat_minor": 2
}
